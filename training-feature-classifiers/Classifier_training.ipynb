{
 "cells": [
  {
   "cell_type": "code",
   "execution_count": 9,
   "metadata": {},
   "outputs": [
    {
     "name": "stdout",
     "output_type": "stream",
     "text": [
      "\u001b[32mImported training-feature-classifiers/silva_132_99_16S.fna as DNASequencesDirectoryFormat to training-feature-classifiers/99_silva_otus_16S.qza\u001b[0m\n",
      "\u001b[32mImported training-feature-classifiers/taxonomy_7_levels.txt as HeaderlessTSVTaxonomyFormat to training-feature-classifiers/ref-taxonomy.qza\u001b[0m\n"
     ]
    }
   ],
   "source": [
    "!qiime tools import \\\n",
    "  --type 'FeatureData[Sequence]' \\\n",
    "  --input-path silva_132_99_16S.fna \\\n",
    "  --output-path 99_silva_otus_16S.qza\n",
    "\n",
    "!qiime tools import \\\n",
    "  --type 'FeatureData[Taxonomy]' \\\n",
    "  --input-format HeaderlessTSVTaxonomyFormat \\\n",
    "  --input-path taxonomy_7_levels.txt \\\n",
    "  --output-path ref-taxonomy.qza"
   ]
  },
  {
   "cell_type": "code",
   "execution_count": 2,
   "metadata": {},
   "outputs": [
    {
     "name": "stdout",
     "output_type": "stream",
     "text": [
      "\u001b[32mSaved FeatureData[Sequence] to: training-feature-classifiers/ref-seqs.qza\u001b[0m\n"
     ]
    }
   ],
   "source": [
    "!qiime feature-classifier extract-reads \\\n",
    "  --i-sequences 99_silva_otus_16S.qza \\\n",
    "  --p-f-primer CCTACGGGNGGCWGCAG \\\n",
    "  --p-r-primer GACTACHVGGGTATCTAATCC \\\n",
    "  --o-reads ref-seqs.qza"
   ]
  },
  {
   "cell_type": "code",
   "execution_count": 3,
   "metadata": {},
   "outputs": [
    {
     "name": "stdout",
     "output_type": "stream",
     "text": [
      "\u001b[32mSaved TaxonomicClassifier to: training-feature-classifiers/classifier.qza\u001b[0m\n"
     ]
    }
   ],
   "source": [
    "!qiime feature-classifier fit-classifier-naive-bayes \\\n",
    "  --i-reference-reads ref-seqs.qza \\\n",
    "  --i-reference-taxonomy ref-taxonomy.qza \\\n",
    "  --o-classifier classifier.qza"
   ]
  },
  {
   "cell_type": "code",
   "execution_count": null,
   "metadata": {},
   "outputs": [],
   "source": []
  }
 ],
 "metadata": {
  "kernelspec": {
   "display_name": "Python 3",
   "language": "python",
   "name": "python3"
  },
  "language_info": {
   "codemirror_mode": {
    "name": "ipython",
    "version": 3
   },
   "file_extension": ".py",
   "mimetype": "text/x-python",
   "name": "python",
   "nbconvert_exporter": "python",
   "pygments_lexer": "ipython3",
   "version": "3.6.7"
  }
 },
 "nbformat": 4,
 "nbformat_minor": 2
}
