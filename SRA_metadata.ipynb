{
 "cells": [
  {
   "cell_type": "code",
   "execution_count": 8,
   "metadata": {},
   "outputs": [],
   "source": [
    "import glob\n",
    "import pandas as pd"
   ]
  },
  {
   "cell_type": "markdown",
   "metadata": {},
   "source": [
    "# Create BioSample metadata table"
   ]
  },
  {
   "cell_type": "code",
   "execution_count": 28,
   "metadata": {},
   "outputs": [],
   "source": [
    "columns = [\n",
    "    'host','description',\n",
    "    '*geo_loc_name','*collection_date','time_point','sample_title',\n",
    "    '*organism','isolation_source','*lat_lon','source_material_id','replicate'\n",
    "]\n",
    "biosample_metadata = pd.DataFrame(columns=columns)\n",
    "biosample_metadata.index.name = '*sample_name'\n",
    "\n",
    "samples_with_data = set([i.split('/')[-1].split('_')[0] for i in glob.glob('raw_data/AS*')])\n",
    "\n",
    "m = pd.read_csv('metadata.tsv',sep='\\t',index_col=0)\n",
    "m = m.loc[m.Treatment=='Infected']\n",
    "\n",
    "for sample_name in samples_with_data:\n",
    "    if sample_name not in m.index.tolist():\n",
    "        continue\n",
    "    host = 'Solanum melongena'\n",
    "    if m.at[sample_name,'Niche'] == 'Soil':\n",
    "        host = ''\n",
    "    plant_id = m.at[sample_name,'Location'].split('_')[0]\n",
    "    date = m.at[sample_name,'Date']\n",
    "    niche = m.at[sample_name,'Niche']\n",
    "    desc = {\n",
    "        'Root':'Metagenome sample of Meloidogyne incognita infected eggplant root, plant %s, collected from Israel:Hatzeva on %s' % (plant_id,date),\n",
    "        'Gall':'Metagenome sample of gall from a Meloidogyne incognita infected eggplant root, plant %s, collected from Israel:Hatzeva on %s' % (plant_id,date),\n",
    "        'Soil':'Metagenome sample of rhizosphere soil from a Meloidogyne incognita infected eggplant, plant %s, collected from Israel:Hatzeva on %s' % (plant_id,date),\n",
    "        'J2':'Metagenome sample of Meloidogyne incognita second stage juveniles from the rhizoplane of eggplant, plant %s, collected from Israel:Hatzeva on %s' % (plant_id,date),\n",
    "    }\n",
    "    description = desc[niche]\n",
    "    geo_loc_name = 'Israel:Hatzeva'\n",
    "    \n",
    "    day, month, year = date.split('/')\n",
    "    months = ['Jan','Feb','Mar','','May','','','','','','','Dec']\n",
    "    month = months[int(month)-1]\n",
    "    year = \"20%s\" % year\n",
    "    collection_date = \"%s-%s-%s\" % (day, month, year)\n",
    "    time_point = m.at[sample_name,'TimePoint']\n",
    "    sample_title = description\n",
    "    organism = 'Bacteria'\n",
    "    source = {\n",
    "        'Root': 'RKN infected eggplant root',\n",
    "        'Gall': 'RKN eggplant gall',\n",
    "        'Soil': 'RKN infected eggplant rhizosphere soil',\n",
    "        'J2': 'Meloidogyne incognita J2 from eggplant rhizoplane'\n",
    "    }\n",
    "    isolation_source = source[niche]\n",
    "    lat_lon = '30.7783 N 35.2396 E'\n",
    "    source_material_id = plant_id\n",
    "    replicate = 'biological replicate 1'\n",
    "    if sample_name in ['AS1181S','AS1105','AS1106']:\n",
    "        replicate = 'biological replicate 2'\n",
    "    \n",
    "    biosample_metadata.loc[sample_name] = [host,description,geo_loc_name,collection_date,time_point,sample_title,organism,isolation_source,lat_lon,source_material_id,replicate]"
   ]
  },
  {
   "cell_type": "code",
   "execution_count": 29,
   "metadata": {},
   "outputs": [],
   "source": [
    "biosample_metadata.to_csv('biosample_metadata.tsv',sep='\\t')"
   ]
  },
  {
   "cell_type": "markdown",
   "metadata": {},
   "source": [
    "# Create SRA metadata table"
   ]
  },
  {
   "cell_type": "code",
   "execution_count": 39,
   "metadata": {},
   "outputs": [],
   "source": [
    "columns = [\n",
    "    'library_ID','title','library_strategy',\n",
    "    'library_source','library_selection','library_layout',\n",
    "    'platform','instrument_model','design_description',\n",
    "    'filetype','filename','filename2'\n",
    "]\n",
    "sra_metadata = pd.DataFrame(columns=columns)\n",
    "sra_metadata.index.name = 'sample_name'\n",
    "\n",
    "samples_with_data = set([i.split('/')[-1].split('_')[0] for i in glob.glob('raw_data/AS*')])\n",
    "\n",
    "m = pd.read_csv('metadata.tsv',sep='\\t',index_col=0)\n",
    "m = m.loc[m.Treatment=='Infected']\n",
    "\n",
    "for sample_name in samples_with_data:\n",
    "    if sample_name not in m.index.tolist():\n",
    "        continue\n",
    "    library_ID = sample_name\n",
    "    title = 'Bacterial 16 rRNA metabarcode seqeuces of '+biosample_metadata.at[sample_name,'description'][21:] + '; ' + biosample_metadata.at[sample_name,'replicate']\n",
    "    library = ['AMPLICON','GENOMIC','PCR','paired','ILLUMINA','Illumina MiSeq','Single barcode, two-step PCR, V3-V4 fragment','fastq']\n",
    "    filename = list(glob.glob('raw_data/%s_*_R1_*.fastq.gz' % sample_name))[0].split('/')[-1]\n",
    "    filename2 = list(glob.glob('raw_data/%s_*_R2_*.fastq.gz' % sample_name))[0].split('/')[-1]\n",
    "    sra_metadata.loc[sample_name] = [library_ID,title]+library+[filename,filename2]\n",
    "    \n"
   ]
  },
  {
   "cell_type": "code",
   "execution_count": 40,
   "metadata": {},
   "outputs": [],
   "source": [
    "sra_metadata.to_csv('sra_metadata.tsv',sep='\\t')"
   ]
  }
 ],
 "metadata": {
  "kernelspec": {
   "display_name": "Python 2",
   "language": "python",
   "name": "python2"
  },
  "language_info": {
   "codemirror_mode": {
    "name": "ipython",
    "version": 2
   },
   "file_extension": ".py",
   "mimetype": "text/x-python",
   "name": "python",
   "nbconvert_exporter": "python",
   "pygments_lexer": "ipython2",
   "version": "2.7.16"
  }
 },
 "nbformat": 4,
 "nbformat_minor": 2
}
