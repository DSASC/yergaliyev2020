{
 "cells": [
  {
   "cell_type": "code",
   "execution_count": 1,
   "metadata": {},
   "outputs": [],
   "source": [
    "from Bio import SeqIO\n",
    "import glob\n",
    "import pandas as pd\n",
    "import seaborn as sns\n",
    "import matplotlib.pyplot as plt\n",
    "from matplotlib.gridspec import GridSpec\n",
    "import matplotlib.patches as mpatches\n",
    "from matplotlib.legend_handler import HandlerPatch\n",
    "from matplotlib.lines import Line2D\n",
    "import numpy as np\n",
    "from numpy import average, median\n",
    "from scipy.stats import mannwhitneyu as mwu\n",
    "from statsmodels.stats.multitest import multipletests\n",
    "from scipy.spatial.distance import euclidean\n",
    "from scipy import stats\n",
    "from os import path\n",
    "import hashlib\n",
    "from Bio import SeqIO\n",
    "from scipy.stats import norm\n",
    "from scipy.optimize import curve_fit\n",
    "from scipy import asarray as ar,exp\n",
    "from scipy import optimize\n",
    "from Bio.KEGG import REST\n",
    "from Bio.KEGG import Enzyme\n",
    "from collections import Counter\n",
    "from itertools import chain\n",
    "\n",
    "%matplotlib inline"
   ]
  },
  {
   "cell_type": "markdown",
   "metadata": {},
   "source": [
    "## Prepare NCBI metadat tables for BioSample and SRA archiving\n",
    "#### Make BioSample metadata table"
   ]
  },
  {
   "cell_type": "code",
   "execution_count": 9,
   "metadata": {},
   "outputs": [],
   "source": [
    "ncbi_columns = {'sample_title':'sample_title',\n",
    "                '*organism':'*organism',\n",
    "                'SP':'host',\n",
    "                'type':'isolation_source',\n",
    "                'Date':'*collection_date',\n",
    "                'geo_loc_name':'*geo_loc_name',\n",
    "                'lat_lon':'*lat_lon',\n",
    "                'description':'description',\n",
    "                'replicate':'replicate'}\n",
    "\n",
    "samples_with_data = set([i.split('/')[-1].split('_')[0] for i in glob.glob('concat/AS*')])\n",
    "biosample_metadata = metadata.loc[metadata.index.isin(samples_with_data)]\n",
    "biosample_metadata = biosample_metadata.rename(ncbi_columns, axis='columns')\n",
    "biosample_metadata.index.name = '*sample_name'\n",
    "\n",
    "def get_geoloc(string):\n",
    "    streams = {'H':'Hermon Stream','S': 'Snir Stream', 'J':'Jordan River, North of Sea of Galilee', 'T': 'Tel Saharonim', 'A': 'Asi Stream'}\n",
    "    return 'Israel:'+streams[string]\n",
    "\n",
    "biosample_metadata['*geo_loc_name'] = biosample_metadata.Stream.apply(get_geoloc)\n",
    "biosample_metadata['*organism'] = 'Bacteria'\n",
    "biosample_metadata['host'] = biosample_metadata.host.replace('Water', '')\n",
    "biosample_metadata['host'] = biosample_metadata.host.replace('Tilapia zillii', 'Coptodon zillii')\n",
    "biosample_metadata['host'] = biosample_metadata.host.replace('OH', 'Oreochromis')\n",
    "biosample_metadata['host'] = biosample_metadata.host.replace('IH', 'Cichlidae')\n",
    "biosample_metadata['isolation_source'] = biosample_metadata.isolation_source.replace('Swab', 'Fish skin swab')\n",
    "\n",
    "def get_description(series):\n",
    "    return \"Metagenome sample of %s %s collected from %s\" % (series['host'],series['isolation_source'],series['*geo_loc_name'])\n",
    "\n",
    "biosample_metadata['description'] = biosample_metadata.apply(get_description,axis=1)\n",
    "biosample_metadata['sample_title'] = biosample_metadata.apply(get_description,axis=1)\n",
    "\n",
    "\n",
    "streams = set(biosample_metadata['*geo_loc_name'])\n",
    "hosts = set(biosample_metadata['host'])\n",
    "sites = set(biosample_metadata['Sampling site'])\n",
    "replicate_counters = {}\n",
    "for s in streams:\n",
    "    replicate_counters[s] = {}\n",
    "    for site in sites:\n",
    "        replicate_counters[s][site] = {i:1 for i in hosts}\n",
    "\n",
    "for ind, row in biosample_metadata.iterrows():\n",
    "    if row['isolation_source'] == 'Water':\n",
    "        continue\n",
    "    counter = replicate_counters[row['*geo_loc_name']][row['Sampling site']][row['host']]\n",
    "    replicate_counters[row['*geo_loc_name']][row['Sampling site']][row['host']] += 1\n",
    "    biosample_metadata.at[ind,'replicate'] = 'biological replicate ' + str(counter)\n",
    "\n",
    "biosample_metadata = biosample_metadata[list(ncbi_columns.values()) + ['Sampling site']]\n",
    "biosample_metadata.to_csv('ncbi_biosample_metadata.tsv',sep='\\t')"
   ]
  },
  {
   "cell_type": "markdown",
   "metadata": {},
   "source": [
    "#### Make SRA metadata table"
   ]
  },
  {
   "cell_type": "code",
   "execution_count": 12,
   "metadata": {},
   "outputs": [],
   "source": [
    "SRA_columns = ['library_ID','title','library_strategy','library_source',\n",
    "               'library_selection','library_layout','platform','instrument_model',\n",
    "               'design_description','filetype','filename','filename2']\n",
    "\n",
    "sra_metadata = pd.DataFrame(columns = SRA_columns)\n",
    "sra_metadata.index.name = 'sample_name'\n",
    "\n",
    "for R1 in glob.glob('concat/AS*_R1_*.fastq'):\n",
    "    smpl = R1.split('/')[-1].split('_')[0]\n",
    "    replicate = biosample_metadata.at[smpl,'replicate']\n",
    "    if isinstance(replicate,float):\n",
    "        replicate = ''\n",
    "    title = biosample_metadata.at[smpl,'description'].replace('Metagenome','16 rRNA V3V4 metabarcoding')+', '+replicate\n",
    "    r1 = R1.split('/')[-1]+ '.gz'\n",
    "    r2 = r1.replace('_R1_','_R2_')\n",
    "    description = 'Single barcode, two-step PCR, V3-V4 fragment'\n",
    "    sra_metadata.loc[smpl] = [smpl, title, 'AMPLICON','GENOMIC','PCR',\n",
    "                              'paired','ILLUMINA','Illumina MiSeq',\n",
    "                              description,'fastq',r1,r2]\n",
    "sra_metadata.to_csv('ncbi_sra_metadata.tsv',sep='\\t')"
   ]
  },
  {
   "cell_type": "code",
   "execution_count": null,
   "metadata": {},
   "outputs": [],
   "source": []
  }
 ],
 "metadata": {
  "kernelspec": {
   "display_name": "Python 3",
   "language": "python",
   "name": "python3"
  },
  "language_info": {
   "codemirror_mode": {
    "name": "ipython",
    "version": 3
   },
   "file_extension": ".py",
   "mimetype": "text/x-python",
   "name": "python",
   "nbconvert_exporter": "python",
   "pygments_lexer": "ipython3",
   "version": "3.7.3"
  }
 },
 "nbformat": 4,
 "nbformat_minor": 4
}
